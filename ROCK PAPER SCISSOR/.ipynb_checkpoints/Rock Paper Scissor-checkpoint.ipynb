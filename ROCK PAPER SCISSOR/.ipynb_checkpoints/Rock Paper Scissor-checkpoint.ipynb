{
 "cells": [
  {
   "cell_type": "code",
   "execution_count": 1,
   "id": "fe9adf0d",
   "metadata": {},
   "outputs": [],
   "source": [
    "from os import system\n",
    "from random import randint"
   ]
  },
  {
   "cell_type": "code",
   "execution_count": 2,
   "id": "d3d78c14",
   "metadata": {},
   "outputs": [],
   "source": [
    "score = {'player':0, 'cpu':0}\n",
    "choices = 'Rock', 'Paper', 'Scissor'\n",
    "verbs = 'smashes', 'covers', 'cut'\n",
    "match = 'Tie', 'Win', 'Lose'\n"
   ]
  },
  {
   "cell_type": "code",
   "execution_count": 3,
   "id": "9ee5ed30",
   "metadata": {},
   "outputs": [],
   "source": [
    "msg = '\\nMake your choice:\\n\\t1.Rock\\n\\t2.Paper\\n\\t3.Scissor\\n'\n",
    "final_msg = '\\nFinal Scores:\\n\\tCPU = {cpu} \\n\\tPlayer = {player}'"
   ]
  },
  {
   "cell_type": "code",
   "execution_count": 4,
   "id": "75e6d87f",
   "metadata": {},
   "outputs": [],
   "source": [
    "#print(msg)\n",
    "#print(final_msg)\n"
   ]
  },
  {
   "cell_type": "code",
   "execution_count": 5,
   "id": "40dc41e6",
   "metadata": {},
   "outputs": [
    {
     "name": "stdout",
     "output_type": "stream",
     "text": [
      "\n",
      "Make your choice:\n",
      "\t1.Rock\n",
      "\t2.Paper\n",
      "\t3.Scissor\n",
      "1\n",
      "\n",
      "CPU plays Scissor\n",
      "\n",
      "Points: Win\n",
      "You Win! Rock smashes Scissor\n",
      "\n",
      "Make your choice:\n",
      "\t1.Rock\n",
      "\t2.Paper\n",
      "\t3.Scissor\n",
      "3\n",
      "\n",
      "CPU plays Paper\n",
      "\n",
      "Points: Win\n",
      "You Win! Scissor cut Paper\n",
      "\n",
      "Make your choice:\n",
      "\t1.Rock\n",
      "\t2.Paper\n",
      "\t3.Scissor\n",
      "end\n",
      "\n",
      "Final Scores:\n",
      "\tCPU = 0 \n",
      "\tPlayer = 2\n"
     ]
    }
   ],
   "source": [
    "while (player := input(msg)) != 'end':\n",
    "    player = int(player) - 1\n",
    "    cpu = randint(0,2)\n",
    "    \n",
    "    print(f'\\nCPU plays {choices[cpu]}')\n",
    "    input()\n",
    "    point = match[(player - cpu) % 3]\n",
    "    \n",
    "    print(\"Points:\", point)\n",
    "    \n",
    "    if point == 'Tie':\n",
    "        print(\"TIE!\")\n",
    "    elif point == 'Win':\n",
    "        print(f'You Win! {choices[player]} {verbs[player]} {choices[cpu]}')\n",
    "        score['player'] += 1\n",
    "    else:\n",
    "        print(f'You Lose! {choices[cpu]} {verbs[cpu]} {choices[player]}')\n",
    "        score['cpu'] += 1\n",
    "        \n",
    "      \n",
    "    \n",
    "print(final_msg.format(cpu=score['cpu'], player=score['player']))"
   ]
  },
  {
   "cell_type": "code",
   "execution_count": null,
   "id": "2b2e239c",
   "metadata": {},
   "outputs": [],
   "source": []
  },
  {
   "cell_type": "code",
   "execution_count": null,
   "id": "18ffdf33",
   "metadata": {},
   "outputs": [],
   "source": []
  },
  {
   "cell_type": "code",
   "execution_count": null,
   "id": "b4773262",
   "metadata": {},
   "outputs": [],
   "source": []
  }
 ],
 "metadata": {
  "kernelspec": {
   "display_name": "Python 3",
   "language": "python",
   "name": "python3"
  },
  "language_info": {
   "codemirror_mode": {
    "name": "ipython",
    "version": 3
   },
   "file_extension": ".py",
   "mimetype": "text/x-python",
   "name": "python",
   "nbconvert_exporter": "python",
   "pygments_lexer": "ipython3",
   "version": "3.9.1"
  }
 },
 "nbformat": 4,
 "nbformat_minor": 5
}
